{
  "metadata": {
    "kernelspec": {
      "name": "xpython",
      "display_name": "Python 3.13 (XPython)",
      "language": "python"
    },
    "language_info": {
      "file_extension": ".py",
      "mimetype": "text/x-python",
      "name": "python",
      "version": "3.13.1"
    }
  },
  "nbformat_minor": 5,
  "nbformat": 4,
  "cells": [
    {
      "id": "17318467-990f-4781-bb69-c817b3fde24b",
      "cell_type": "code",
      "source": "import numpy as np\n\nheights_weights = np.loadtxt(\"SOCR-HeightWeight.csv\",\n                             delimiter=\",\", \n                             skiprows=1,\n                             usecols=(1, 2))\n\ndisplay(heights_weights)",
      "metadata": {
        "trusted": true
      },
      "outputs": [
        {
          "output_type": "display_data",
          "data": {
            "text/plain": "array([[ 65.78331, 112.9925 ],\n       [ 71.51521, 136.4873 ],\n       [ 69.39874, 153.0269 ],\n       ...,\n       [ 64.69855, 118.2655 ],\n       [ 67.52918, 132.2682 ],\n       [ 68.87761, 124.8742 ]], shape=(25000, 2))"
          },
          "metadata": {}
        }
      ],
      "execution_count": 1
    },
    {
      "id": "c4e452ca-f966-4c5d-a91f-7a4b7e36d856",
      "cell_type": "code",
      "source": "import numpy as np\n\nheightsWeights = np.loadtxt(\"SOCR-HeightWeight.csv\",\n                             delimiter=\",\",\n                             skiprows=1,\n                             usecols=(1, 2))\n\n# Split into separate arrays\nheights = heightsWeights[:, 0]\nweights = heightsWeights[:, 1]\n\ndef getPercentile(value, data):\n\n    return np.sum(data <= value) / len(data) * 100\n\n# Example: input a height and weight\nmyHeight = 72.125  # inches\nmyWeight = 145.4  # pounds\n\nheightPercentile = getPercentile(myHeight, heights)\nweightPercentile = getPercentile(myWeight, weights)\n\nprint(f\"Height {myHeight} in is at the {heightPercentile:.0f}th percentile.\")\nprint(f\"Weight {myWeight} lbs is at the {weightPercentile:.0f}th percentile.\")\n",
      "metadata": {
        "trusted": true
      },
      "outputs": [
        {
          "name": "stdout",
          "output_type": "stream",
          "text": "Height 72.125 in is at the 99th percentile.\nWeight 145.4 lbs is at the 94th percentile.\n"
        }
      ],
      "execution_count": 8
    },
    {
      "id": "04f0a3ce-682c-4511-a369-e58af8c2ae7e",
      "cell_type": "code",
      "source": "import numpy as np\n\nheightsWeights = np.loadtxt(\"SOCR-HeightWeight.csv\",\n                             delimiter=\",\",\n                             skiprows=1,\n                             usecols=(1, 2))\n\n# Split into separate arrays\nheights = heightsWeights[:, 0]\nweights = heightsWeights[:, 1]\n\ndef getPercentile(value, data):\n\n    return np.sum(data <= value) / len(data) * 100\n\n# Example: input a height and weight\nmyHeight = float(input(\"Please input your height in inches:\")) # inches\nmyWeight = float(input(\"Please input your weight in pounds:\"))\n\nheightPercentile = getPercentile(myHeight, heights)\nweightPercentile = getPercentile(myWeight, weights)\n\nprint(f\"Your height at {myHeight} in is at the {heightPercentile:.0f}th percentile.\")\nprint(f\"Yor weight at {myWeight} lbs is at the {weightPercentile:.0f}th percentile.\")",
      "metadata": {
        "trusted": true
      },
      "outputs": [
        {
          "output_type": "stream",
          "name": "stdin",
          "text": "Please input your height in inches: 72.25\nPlease input your weight in pounds: 145\n"
        },
        {
          "name": "stdout",
          "output_type": "stream",
          "text": "Your height at 72.25 in is at the 99th percentile.\nYor weight at 145.0 lbs is at the 94th percentile.\n"
        }
      ],
      "execution_count": 12
    },
    {
      "id": "0779de2f-105d-4ab8-9f9e-ef4d953310d6",
      "cell_type": "code",
      "source": "",
      "metadata": {
        "trusted": true
      },
      "outputs": [],
      "execution_count": null
    }
  ]
}